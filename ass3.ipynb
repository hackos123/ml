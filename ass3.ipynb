{
 "cells": [
  {
   "cell_type": "code",
   "execution_count": 1,
   "id": "d7a5ed34",
   "metadata": {
    "execution": {
     "iopub.execute_input": "2023-09-26T15:13:46.976408Z",
     "iopub.status.busy": "2023-09-26T15:13:46.975094Z",
     "iopub.status.idle": "2023-09-26T15:13:48.713729Z",
     "shell.execute_reply": "2023-09-26T15:13:48.712492Z"
    },
    "papermill": {
     "duration": 1.753316,
     "end_time": "2023-09-26T15:13:48.716914",
     "exception": false,
     "start_time": "2023-09-26T15:13:46.963598",
     "status": "completed"
    },
    "tags": []
   },
   "outputs": [],
   "source": [
    "import pandas as pd\n",
    "import numpy as np\n",
    "import seaborn as sns\n",
    "import matplotlib.pyplot as plt\n",
    "%matplotlib inline"
   ]
  },
  {
   "cell_type": "code",
   "execution_count": 2,
   "id": "a8ca0e41",
   "metadata": {
    "execution": {
     "iopub.execute_input": "2023-09-26T15:13:48.739474Z",
     "iopub.status.busy": "2023-09-26T15:13:48.739044Z",
     "iopub.status.idle": "2023-09-26T15:13:48.758863Z",
     "shell.execute_reply": "2023-09-26T15:13:48.757468Z"
    },
    "papermill": {
     "duration": 0.034363,
     "end_time": "2023-09-26T15:13:48.761838",
     "exception": false,
     "start_time": "2023-09-26T15:13:48.727475",
     "status": "completed"
    },
    "tags": []
   },
   "outputs": [],
   "source": [
    "data = pd.read_csv('diabetes.csv')"
   ]
  },
  {
   "cell_type": "code",
   "execution_count": 3,
   "id": "b87623ca",
   "metadata": {
    "execution": {
     "iopub.execute_input": "2023-09-26T15:13:48.784033Z",
     "iopub.status.busy": "2023-09-26T15:13:48.783656Z",
     "iopub.status.idle": "2023-09-26T15:13:48.810320Z",
     "shell.execute_reply": "2023-09-26T15:13:48.809152Z"
    },
    "papermill": {
     "duration": 0.04059,
     "end_time": "2023-09-26T15:13:48.812810",
     "exception": false,
     "start_time": "2023-09-26T15:13:48.772220",
     "status": "completed"
    },
    "tags": []
   },
   "outputs": [
    {
     "data": {
      "text/html": [
       "<div>\n",
       "<style scoped>\n",
       "    .dataframe tbody tr th:only-of-type {\n",
       "        vertical-align: middle;\n",
       "    }\n",
       "\n",
       "    .dataframe tbody tr th {\n",
       "        vertical-align: top;\n",
       "    }\n",
       "\n",
       "    .dataframe thead th {\n",
       "        text-align: right;\n",
       "    }\n",
       "</style>\n",
       "<table border=\"1\" class=\"dataframe\">\n",
       "  <thead>\n",
       "    <tr style=\"text-align: right;\">\n",
       "      <th></th>\n",
       "      <th>Pregnancies</th>\n",
       "      <th>Glucose</th>\n",
       "      <th>BloodPressure</th>\n",
       "      <th>SkinThickness</th>\n",
       "      <th>Insulin</th>\n",
       "      <th>BMI</th>\n",
       "      <th>Pedigree</th>\n",
       "      <th>Age</th>\n",
       "      <th>Outcome</th>\n",
       "    </tr>\n",
       "  </thead>\n",
       "  <tbody>\n",
       "    <tr>\n",
       "      <th>0</th>\n",
       "      <td>6</td>\n",
       "      <td>148</td>\n",
       "      <td>72</td>\n",
       "      <td>35</td>\n",
       "      <td>0</td>\n",
       "      <td>33.6</td>\n",
       "      <td>0.627</td>\n",
       "      <td>50</td>\n",
       "      <td>1</td>\n",
       "    </tr>\n",
       "    <tr>\n",
       "      <th>1</th>\n",
       "      <td>1</td>\n",
       "      <td>85</td>\n",
       "      <td>66</td>\n",
       "      <td>29</td>\n",
       "      <td>0</td>\n",
       "      <td>26.6</td>\n",
       "      <td>0.351</td>\n",
       "      <td>31</td>\n",
       "      <td>0</td>\n",
       "    </tr>\n",
       "    <tr>\n",
       "      <th>2</th>\n",
       "      <td>8</td>\n",
       "      <td>183</td>\n",
       "      <td>64</td>\n",
       "      <td>0</td>\n",
       "      <td>0</td>\n",
       "      <td>23.3</td>\n",
       "      <td>0.672</td>\n",
       "      <td>32</td>\n",
       "      <td>1</td>\n",
       "    </tr>\n",
       "    <tr>\n",
       "      <th>3</th>\n",
       "      <td>1</td>\n",
       "      <td>89</td>\n",
       "      <td>66</td>\n",
       "      <td>23</td>\n",
       "      <td>94</td>\n",
       "      <td>28.1</td>\n",
       "      <td>0.167</td>\n",
       "      <td>21</td>\n",
       "      <td>0</td>\n",
       "    </tr>\n",
       "    <tr>\n",
       "      <th>4</th>\n",
       "      <td>0</td>\n",
       "      <td>137</td>\n",
       "      <td>40</td>\n",
       "      <td>35</td>\n",
       "      <td>168</td>\n",
       "      <td>43.1</td>\n",
       "      <td>2.288</td>\n",
       "      <td>33</td>\n",
       "      <td>1</td>\n",
       "    </tr>\n",
       "  </tbody>\n",
       "</table>\n",
       "</div>"
      ],
      "text/plain": [
       "   Pregnancies  Glucose  BloodPressure  SkinThickness  Insulin   BMI  \\\n",
       "0            6      148             72             35        0  33.6   \n",
       "1            1       85             66             29        0  26.6   \n",
       "2            8      183             64              0        0  23.3   \n",
       "3            1       89             66             23       94  28.1   \n",
       "4            0      137             40             35      168  43.1   \n",
       "\n",
       "   Pedigree  Age  Outcome  \n",
       "0     0.627   50        1  \n",
       "1     0.351   31        0  \n",
       "2     0.672   32        1  \n",
       "3     0.167   21        0  \n",
       "4     2.288   33        1  "
      ]
     },
     "execution_count": 3,
     "metadata": {},
     "output_type": "execute_result"
    }
   ],
   "source": [
    "data.head()"
   ]
  },
  {
   "cell_type": "code",
   "execution_count": 4,
   "id": "06f3cda7",
   "metadata": {
    "execution": {
     "iopub.execute_input": "2023-09-26T15:13:48.835791Z",
     "iopub.status.busy": "2023-09-26T15:13:48.835115Z",
     "iopub.status.idle": "2023-09-26T15:13:48.848180Z",
     "shell.execute_reply": "2023-09-26T15:13:48.846945Z"
    },
    "papermill": {
     "duration": 0.027359,
     "end_time": "2023-09-26T15:13:48.850747",
     "exception": false,
     "start_time": "2023-09-26T15:13:48.823388",
     "status": "completed"
    },
    "tags": []
   },
   "outputs": [
    {
     "data": {
      "text/plain": [
       "Pregnancies      0.221898\n",
       "Glucose          0.466581\n",
       "BloodPressure    0.065068\n",
       "SkinThickness    0.074752\n",
       "Insulin          0.130548\n",
       "BMI              0.292695\n",
       "Pedigree         0.173844\n",
       "Age              0.238356\n",
       "Outcome          1.000000\n",
       "Name: Outcome, dtype: float64"
      ]
     },
     "execution_count": 4,
     "metadata": {},
     "output_type": "execute_result"
    }
   ],
   "source": [
    "data.corr()['Outcome']"
   ]
  },
  {
   "cell_type": "code",
   "execution_count": 5,
   "id": "41888f29",
   "metadata": {
    "execution": {
     "iopub.execute_input": "2023-09-26T15:13:48.874248Z",
     "iopub.status.busy": "2023-09-26T15:13:48.873897Z",
     "iopub.status.idle": "2023-09-26T15:13:49.569680Z",
     "shell.execute_reply": "2023-09-26T15:13:49.568749Z"
    },
    "papermill": {
     "duration": 0.710775,
     "end_time": "2023-09-26T15:13:49.572530",
     "exception": false,
     "start_time": "2023-09-26T15:13:48.861755",
     "status": "completed"
    },
    "tags": []
   },
   "outputs": [
    {
     "data": {
      "text/plain": [
       "<Axes: >"
      ]
     },
     "execution_count": 5,
     "metadata": {},
     "output_type": "execute_result"
    },
    {
     "data": {
      "image/png": "[encoded data removed]",
      "text/plain": [
       "<Figure size 640x480 with 2 Axes>"
      ]
     },
     "metadata": {},
     "output_type": "display_data"
    }
   ],
   "source": [
    "sns.heatmap(data.corr(), annot=True)"
   ]
  },
  {
   "cell_type": "code",
   "execution_count": 6,
   "id": "10b1838b",
   "metadata": {
    "execution": {
     "iopub.execute_input": "2023-09-26T15:13:49.599720Z",
     "iopub.status.busy": "2023-09-26T15:13:49.598591Z",
     "iopub.status.idle": "2023-09-26T15:13:49.609946Z",
     "shell.execute_reply": "2023-09-26T15:13:49.609021Z"
    },
    "papermill": {
     "duration": 0.027626,
     "end_time": "2023-09-26T15:13:49.612506",
     "exception": false,
     "start_time": "2023-09-26T15:13:49.584880",
     "status": "completed"
    },
    "tags": []
   },
   "outputs": [],
   "source": [
    "X = data.drop('Outcome', axis=1)"
   ]
  },
  {
   "cell_type": "code",
   "execution_count": 7,
   "id": "8bc702db",
   "metadata": {
    "execution": {
     "iopub.execute_input": "2023-09-26T15:13:49.640340Z",
     "iopub.status.busy": "2023-09-26T15:13:49.639077Z",
     "iopub.status.idle": "2023-09-26T15:13:49.644075Z",
     "shell.execute_reply": "2023-09-26T15:13:49.643257Z"
    },
    "papermill": {
     "duration": 0.021525,
     "end_time": "2023-09-26T15:13:49.646378",
     "exception": false,
     "start_time": "2023-09-26T15:13:49.624853",
     "status": "completed"
    },
    "tags": []
   },
   "outputs": [],
   "source": [
    "y = data['Outcome']"
   ]
  },
  {
   "cell_type": "code",
   "execution_count": 8,
   "id": "7285131c",
   "metadata": {
    "execution": {
     "iopub.execute_input": "2023-09-26T15:13:49.673598Z",
     "iopub.status.busy": "2023-09-26T15:13:49.672755Z",
     "iopub.status.idle": "2023-09-26T15:13:50.002592Z",
     "shell.execute_reply": "2023-09-26T15:13:50.001197Z"
    },
    "papermill": {
     "duration": 0.346614,
     "end_time": "2023-09-26T15:13:50.005396",
     "exception": false,
     "start_time": "2023-09-26T15:13:49.658782",
     "status": "completed"
    },
    "tags": []
   },
   "outputs": [],
   "source": [
    "from sklearn.model_selection import train_test_split"
   ]
  },
  {
   "cell_type": "code",
   "execution_count": 9,
   "id": "3870907b",
   "metadata": {
    "execution": {
     "iopub.execute_input": "2023-09-26T15:13:50.033121Z",
     "iopub.status.busy": "2023-09-26T15:13:50.032681Z",
     "iopub.status.idle": "2023-09-26T15:13:50.041661Z",
     "shell.execute_reply": "2023-09-26T15:13:50.040547Z"
    },
    "papermill": {
     "duration": 0.025448,
     "end_time": "2023-09-26T15:13:50.044466",
     "exception": false,
     "start_time": "2023-09-26T15:13:50.019018",
     "status": "completed"
    },
    "tags": []
   },
   "outputs": [],
   "source": [
    "X_train, X_test, y_train, y_test = train_test_split(X, y, test_size=0.3, random_state=42)"
   ]
  },
  {
   "cell_type": "code",
   "execution_count": 10,
   "id": "ae45dbb3",
   "metadata": {
    "execution": {
     "iopub.execute_input": "2023-09-26T15:13:50.070726Z",
     "iopub.status.busy": "2023-09-26T15:13:50.070304Z",
     "iopub.status.idle": "2023-09-26T15:13:50.076156Z",
     "shell.execute_reply": "2023-09-26T15:13:50.074749Z"
    },
    "papermill": {
     "duration": 0.021721,
     "end_time": "2023-09-26T15:13:50.078528",
     "exception": false,
     "start_time": "2023-09-26T15:13:50.056807",
     "status": "completed"
    },
    "tags": []
   },
   "outputs": [],
   "source": [
    "from sklearn.preprocessing import StandardScaler"
   ]
  },
  {
   "cell_type": "code",
   "execution_count": 11,
   "id": "cad4e07c",
   "metadata": {
    "execution": {
     "iopub.execute_input": "2023-09-26T15:13:50.104904Z",
     "iopub.status.busy": "2023-09-26T15:13:50.104477Z",
     "iopub.status.idle": "2023-09-26T15:13:50.382708Z",
     "shell.execute_reply": "2023-09-26T15:13:50.381456Z"
    },
    "papermill": {
     "duration": 0.294826,
     "end_time": "2023-09-26T15:13:50.385576",
     "exception": false,
     "start_time": "2023-09-26T15:13:50.090750",
     "status": "completed"
    },
    "tags": []
   },
   "outputs": [],
   "source": [
    "from sklearn.neighbors import KNeighborsClassifier"
   ]
  },
  {
   "cell_type": "code",
   "execution_count": 12,
   "id": "fd9d3021",
   "metadata": {
    "execution": {
     "iopub.execute_input": "2023-09-26T15:13:50.412890Z",
     "iopub.status.busy": "2023-09-26T15:13:50.412181Z",
     "iopub.status.idle": "2023-09-26T15:13:50.416650Z",
     "shell.execute_reply": "2023-09-26T15:13:50.415814Z"
    },
    "papermill": {
     "duration": 0.02044,
     "end_time": "2023-09-26T15:13:50.418737",
     "exception": false,
     "start_time": "2023-09-26T15:13:50.398297",
     "status": "completed"
    },
    "tags": []
   },
   "outputs": [],
   "source": [
    "scaler = StandardScaler()"
   ]
  },
  {
   "cell_type": "code",
   "execution_count": 13,
   "id": "d498d211",
   "metadata": {
    "execution": {
     "iopub.execute_input": "2023-09-26T15:13:50.445620Z",
     "iopub.status.busy": "2023-09-26T15:13:50.444555Z",
     "iopub.status.idle": "2023-09-26T15:13:50.449125Z",
     "shell.execute_reply": "2023-09-26T15:13:50.448307Z"
    },
    "papermill": {
     "duration": 0.020089,
     "end_time": "2023-09-26T15:13:50.451172",
     "exception": false,
     "start_time": "2023-09-26T15:13:50.431083",
     "status": "completed"
    },
    "tags": []
   },
   "outputs": [],
   "source": [
    "knn = KNeighborsClassifier()"
   ]
  },
  {
   "cell_type": "code",
   "execution_count": 14,
   "id": "f05b63c3",
   "metadata": {
    "execution": {
     "iopub.execute_input": "2023-09-26T15:13:50.478367Z",
     "iopub.status.busy": "2023-09-26T15:13:50.477634Z",
     "iopub.status.idle": "2023-09-26T15:13:50.482762Z",
     "shell.execute_reply": "2023-09-26T15:13:50.481249Z"
    },
    "papermill": {
     "duration": 0.021751,
     "end_time": "2023-09-26T15:13:50.485173",
     "exception": false,
     "start_time": "2023-09-26T15:13:50.463422",
     "status": "completed"
    },
    "tags": []
   },
   "outputs": [],
   "source": [
    "operations = [('scaler', scaler), ('knn', knn)]"
   ]
  },
  {
   "cell_type": "code",
   "execution_count": 15,
   "id": "f7a3dcc3",
   "metadata": {
    "execution": {
     "iopub.execute_input": "2023-09-26T15:13:50.511631Z",
     "iopub.status.busy": "2023-09-26T15:13:50.511152Z",
     "iopub.status.idle": "2023-09-26T15:13:50.525263Z",
     "shell.execute_reply": "2023-09-26T15:13:50.523930Z"
    },
    "papermill": {
     "duration": 0.030454,
     "end_time": "2023-09-26T15:13:50.527948",
     "exception": false,
     "start_time": "2023-09-26T15:13:50.497494",
     "status": "completed"
    },
    "tags": []
   },
   "outputs": [],
   "source": [
    "from sklearn.pipeline import Pipeline"
   ]
  },
  {
   "cell_type": "code",
   "execution_count": 16,
   "id": "921f0d15",
   "metadata": {
    "execution": {
     "iopub.execute_input": "2023-09-26T15:13:50.554480Z",
     "iopub.status.busy": "2023-09-26T15:13:50.554040Z",
     "iopub.status.idle": "2023-09-26T15:13:50.559141Z",
     "shell.execute_reply": "2023-09-26T15:13:50.557962Z"
    },
    "papermill": {
     "duration": 0.021163,
     "end_time": "2023-09-26T15:13:50.561530",
     "exception": false,
     "start_time": "2023-09-26T15:13:50.540367",
     "status": "completed"
    },
    "tags": []
   },
   "outputs": [],
   "source": [
    "pipe = Pipeline(operations)"
   ]
  },
  {
   "cell_type": "code",
   "execution_count": 17,
   "id": "f445e9de",
   "metadata": {
    "execution": {
     "iopub.execute_input": "2023-09-26T15:13:50.588089Z",
     "iopub.status.busy": "2023-09-26T15:13:50.587277Z",
     "iopub.status.idle": "2023-09-26T15:13:50.592333Z",
     "shell.execute_reply": "2023-09-26T15:13:50.590935Z"
    },
    "papermill": {
     "duration": 0.021715,
     "end_time": "2023-09-26T15:13:50.595299",
     "exception": false,
     "start_time": "2023-09-26T15:13:50.573584",
     "status": "completed"
    },
    "tags": []
   },
   "outputs": [],
   "source": [
    "from sklearn.model_selection import GridSearchCV"
   ]
  },
  {
   "cell_type": "code",
   "execution_count": 18,
   "id": "be17e818",
   "metadata": {
    "execution": {
     "iopub.execute_input": "2023-09-26T15:13:50.623058Z",
     "iopub.status.busy": "2023-09-26T15:13:50.622097Z",
     "iopub.status.idle": "2023-09-26T15:13:50.627775Z",
     "shell.execute_reply": "2023-09-26T15:13:50.626541Z"
    },
    "papermill": {
     "duration": 0.021826,
     "end_time": "2023-09-26T15:13:50.630212",
     "exception": false,
     "start_time": "2023-09-26T15:13:50.608386",
     "status": "completed"
    },
    "tags": []
   },
   "outputs": [],
   "source": [
    "k_values = list(range(1, 20))"
   ]
  },
  {
   "cell_type": "code",
   "execution_count": 19,
   "id": "4e190063",
   "metadata": {
    "execution": {
     "iopub.execute_input": "2023-09-26T15:13:50.656562Z",
     "iopub.status.busy": "2023-09-26T15:13:50.656146Z",
     "iopub.status.idle": "2023-09-26T15:13:50.661068Z",
     "shell.execute_reply": "2023-09-26T15:13:50.659828Z"
    },
    "papermill": {
     "duration": 0.021257,
     "end_time": "2023-09-26T15:13:50.663795",
     "exception": false,
     "start_time": "2023-09-26T15:13:50.642538",
     "status": "completed"
    },
    "tags": []
   },
   "outputs": [],
   "source": [
    "param_grid = {'knn__n_neighbors':k_values}"
   ]
  },
  {
   "cell_type": "code",
   "execution_count": 20,
   "id": "cf3bebe2",
   "metadata": {
    "execution": {
     "iopub.execute_input": "2023-09-26T15:13:50.690592Z",
     "iopub.status.busy": "2023-09-26T15:13:50.689840Z",
     "iopub.status.idle": "2023-09-26T15:13:50.695079Z",
     "shell.execute_reply": "2023-09-26T15:13:50.693886Z"
    },
    "papermill": {
     "duration": 0.021774,
     "end_time": "2023-09-26T15:13:50.697824",
     "exception": false,
     "start_time": "2023-09-26T15:13:50.676050",
     "status": "completed"
    },
    "tags": []
   },
   "outputs": [],
   "source": [
    "full_classifier = GridSearchCV(pipe, param_grid, cv=5, scoring='accuracy')"
   ]
  },
  {
   "cell_type": "code",
   "execution_count": 21,
   "id": "e5e96180",
   "metadata": {
    "execution": {
     "iopub.execute_input": "2023-09-26T15:13:50.724736Z",
     "iopub.status.busy": "2023-09-26T15:13:50.723911Z",
     "iopub.status.idle": "2023-09-26T15:13:52.560063Z",
     "shell.execute_reply": "2023-09-26T15:13:52.558816Z"
    },
    "papermill": {
     "duration": 1.852512,
     "end_time": "2023-09-26T15:13:52.562744",
     "exception": false,
     "start_time": "2023-09-26T15:13:50.710232",
     "status": "completed"
    },
    "tags": []
   },
   "outputs": [
    {
     "data": {
      "text/html": [
       "<style>#sk-container-id-1 {color: black;}#sk-container-id-1 pre{padding: 0;}#sk-container-id-1 div.sk-toggleable {background-color: white;}#sk-container-id-1 label.sk-toggleable__label {cursor: pointer;display: block;width: 100%;margin-bottom: 0;padding: 0.3em;box-sizing: border-box;text-align: center;}#sk-container-id-1 label.sk-toggleable__label-arrow:before {content: \"▸\";float: left;margin-right: 0.25em;color: #696969;}#sk-container-id-1 label.sk-toggleable__label-arrow:hover:before {color: black;}#sk-container-id-1 div.sk-estimator:hover label.sk-toggleable__label-arrow:before {color: black;}#sk-container-id-1 div.sk-toggleable__content {max-height: 0;max-width: 0;overflow: hidden;text-align: left;background-color: #f0f8ff;}#sk-container-id-1 div.sk-toggleable__content pre {margin: 0.2em;color: black;border-radius: 0.25em;background-color: #f0f8ff;}#sk-container-id-1 input.sk-toggleable__control:checked~div.sk-toggleable__content {max-height: 200px;max-width: 100%;overflow: auto;}#sk-container-id-1 input.sk-toggleable__control:checked~label.sk-toggleable__label-arrow:before {content: \"▾\";}#sk-container-id-1 div.sk-estimator input.sk-toggleable__control:checked~label.sk-toggleable__label {background-color: #d4ebff;}#sk-container-id-1 div.sk-label input.sk-toggleable__control:checked~label.sk-toggleable__label {background-color: #d4ebff;}#sk-container-id-1 input.sk-hidden--visually {border: 0;clip: rect(1px 1px 1px 1px);clip: rect(1px, 1px, 1px, 1px);height: 1px;margin: -1px;overflow: hidden;padding: 0;position: absolute;width: 1px;}#sk-container-id-1 div.sk-estimator {font-family: monospace;background-color: #f0f8ff;border: 1px dotted black;border-radius: 0.25em;box-sizing: border-box;margin-bottom: 0.5em;}#sk-container-id-1 div.sk-estimator:hover {background-color: #d4ebff;}#sk-container-id-1 div.sk-parallel-item::after {content: \"\";width: 100%;border-bottom: 1px solid gray;flex-grow: 1;}#sk-container-id-1 div.sk-label:hover label.sk-toggleable__label {background-color: #d4ebff;}#sk-container-id-1 div.sk-serial::before {content: \"\";position: absolute;border-left: 1px solid gray;box-sizing: border-box;top: 0;bottom: 0;left: 50%;z-index: 0;}#sk-container-id-1 div.sk-serial {display: flex;flex-direction: column;align-items: center;background-color: white;padding-right: 0.2em;padding-left: 0.2em;position: relative;}#sk-container-id-1 div.sk-item {position: relative;z-index: 1;}#sk-container-id-1 div.sk-parallel {display: flex;align-items: stretch;justify-content: center;background-color: white;position: relative;}#sk-container-id-1 div.sk-item::before, #sk-container-id-1 div.sk-parallel-item::before {content: \"\";position: absolute;border-left: 1px solid gray;box-sizing: border-box;top: 0;bottom: 0;left: 50%;z-index: -1;}#sk-container-id-1 div.sk-parallel-item {display: flex;flex-direction: column;z-index: 1;position: relative;background-color: white;}#sk-container-id-1 div.sk-parallel-item:first-child::after {align-self: flex-end;width: 50%;}#sk-container-id-1 div.sk-parallel-item:last-child::after {align-self: flex-start;width: 50%;}#sk-container-id-1 div.sk-parallel-item:only-child::after {width: 0;}#sk-container-id-1 div.sk-dashed-wrapped {border: 1px dashed gray;margin: 0 0.4em 0.5em 0.4em;box-sizing: border-box;padding-bottom: 0.4em;background-color: white;}#sk-container-id-1 div.sk-label label {font-family: monospace;font-weight: bold;display: inline-block;line-height: 1.2em;}#sk-container-id-1 div.sk-label-container {text-align: center;}#sk-container-id-1 div.sk-container {/* jupyter's `normalize.less` sets `[hidden] { display: none; }` but bootstrap.min.css set `[hidden] { display: none !important; }` so we also need the `!important` here to be able to override the default hidden behavior on the sphinx rendered scikit-learn.org. See: https://github.com/scikit-learn/scikit-learn/issues/21755 */display: inline-block !important;position: relative;}#sk-container-id-1 div.sk-text-repr-fallback {display: none;}</style><div id=\"sk-container-id-1\" class=\"sk-top-container\"><div class=\"sk-text-repr-fallback\"><pre>GridSearchCV(cv=5,\n",
       "             estimator=Pipeline(steps=[(&#x27;scaler&#x27;, StandardScaler()),\n",
       "                                       (&#x27;knn&#x27;, KNeighborsClassifier())]),\n",
       "             param_grid={&#x27;knn__n_neighbors&#x27;: [1, 2, 3, 4, 5, 6, 7, 8, 9, 10, 11,\n",
       "                                              12, 13, 14, 15, 16, 17, 18, 19]},\n",
       "             scoring=&#x27;accuracy&#x27;)</pre><b>In a Jupyter environment, please rerun this cell to show the HTML representation or trust the notebook. <br />On GitHub, the HTML representation is unable to render, please try loading this page with nbviewer.org.</b></div><div class=\"sk-container\" hidden><div class=\"sk-item sk-dashed-wrapped\"><div class=\"sk-label-container\"><div class=\"sk-label sk-toggleable\"><input class=\"sk-toggleable__control sk-hidden--visually\" id=\"sk-estimator-id-1\" type=\"checkbox\" ><label for=\"sk-estimator-id-1\" class=\"sk-toggleable__label sk-toggleable__label-arrow\">GridSearchCV</label><div class=\"sk-toggleable__content\"><pre>GridSearchCV(cv=5,\n",
       "             estimator=Pipeline(steps=[(&#x27;scaler&#x27;, StandardScaler()),\n",
       "                                       (&#x27;knn&#x27;, KNeighborsClassifier())]),\n",
       "             param_grid={&#x27;knn__n_neighbors&#x27;: [1, 2, 3, 4, 5, 6, 7, 8, 9, 10, 11,\n",
       "                                              12, 13, 14, 15, 16, 17, 18, 19]},\n",
       "             scoring=&#x27;accuracy&#x27;)</pre></div></div></div><div class=\"sk-parallel\"><div class=\"sk-parallel-item\"><div class=\"sk-item\"><div class=\"sk-label-container\"><div class=\"sk-label sk-toggleable\"><input class=\"sk-toggleable__control sk-hidden--visually\" id=\"sk-estimator-id-2\" type=\"checkbox\" ><label for=\"sk-estimator-id-2\" class=\"sk-toggleable__label sk-toggleable__label-arrow\">estimator: Pipeline</label><div class=\"sk-toggleable__content\"><pre>Pipeline(steps=[(&#x27;scaler&#x27;, StandardScaler()), (&#x27;knn&#x27;, KNeighborsClassifier())])</pre></div></div></div><div class=\"sk-serial\"><div class=\"sk-item\"><div class=\"sk-serial\"><div class=\"sk-item\"><div class=\"sk-estimator sk-toggleable\"><input class=\"sk-toggleable__control sk-hidden--visually\" id=\"sk-estimator-id-3\" type=\"checkbox\" ><label for=\"sk-estimator-id-3\" class=\"sk-toggleable__label sk-toggleable__label-arrow\">StandardScaler</label><div class=\"sk-toggleable__content\"><pre>StandardScaler()</pre></div></div></div><div class=\"sk-item\"><div class=\"sk-estimator sk-toggleable\"><input class=\"sk-toggleable__control sk-hidden--visually\" id=\"sk-estimator-id-4\" type=\"checkbox\" ><label for=\"sk-estimator-id-4\" class=\"sk-toggleable__label sk-toggleable__label-arrow\">KNeighborsClassifier</label><div class=\"sk-toggleable__content\"><pre>KNeighborsClassifier()</pre></div></div></div></div></div></div></div></div></div></div></div></div>"
      ],
      "text/plain": [
       "GridSearchCV(cv=5,\n",
       "             estimator=Pipeline(steps=[('scaler', StandardScaler()),\n",
       "                                       ('knn', KNeighborsClassifier())]),\n",
       "             param_grid={'knn__n_neighbors': [1, 2, 3, 4, 5, 6, 7, 8, 9, 10, 11,\n",
       "                                              12, 13, 14, 15, 16, 17, 18, 19]},\n",
       "             scoring='accuracy')"
      ]
     },
     "execution_count": 21,
     "metadata": {},
     "output_type": "execute_result"
    }
   ],
   "source": [
    "full_classifier.fit(X_train, y_train)"
   ]
  },
  {
   "cell_type": "code",
   "execution_count": 22,
   "id": "0a3c788f",
   "metadata": {
    "execution": {
     "iopub.execute_input": "2023-09-26T15:13:52.591219Z",
     "iopub.status.busy": "2023-09-26T15:13:52.590531Z",
     "iopub.status.idle": "2023-09-26T15:13:52.600149Z",
     "shell.execute_reply": "2023-09-26T15:13:52.598836Z"
    },
    "papermill": {
     "duration": 0.02709,
     "end_time": "2023-09-26T15:13:52.602778",
     "exception": false,
     "start_time": "2023-09-26T15:13:52.575688",
     "status": "completed"
    },
    "tags": []
   },
   "outputs": [
    {
     "data": {
      "text/plain": [
       "{'memory': None,\n",
       " 'steps': [('scaler', StandardScaler()),\n",
       "  ('knn', KNeighborsClassifier(n_neighbors=7))],\n",
       " 'verbose': False,\n",
       " 'scaler': StandardScaler(),\n",
       " 'knn': KNeighborsClassifier(n_neighbors=7),\n",
       " 'scaler__copy': True,\n",
       " 'scaler__with_mean': True,\n",
       " 'scaler__with_std': True,\n",
       " 'knn__algorithm': 'auto',\n",
       " 'knn__leaf_size': 30,\n",
       " 'knn__metric': 'minkowski',\n",
       " 'knn__metric_params': None,\n",
       " 'knn__n_jobs': None,\n",
       " 'knn__n_neighbors': 7,\n",
       " 'knn__p': 2,\n",
       " 'knn__weights': 'uniform'}"
      ]
     },
     "execution_count": 22,
     "metadata": {},
     "output_type": "execute_result"
    }
   ],
   "source": [
    "full_classifier.best_estimator_.get_params()"
   ]
  },
  {
   "cell_type": "code",
   "execution_count": 23,
   "id": "0d4e84fd",
   "metadata": {
    "execution": {
     "iopub.execute_input": "2023-09-26T15:13:52.630499Z",
     "iopub.status.busy": "2023-09-26T15:13:52.630085Z",
     "iopub.status.idle": "2023-09-26T15:13:52.659200Z",
     "shell.execute_reply": "2023-09-26T15:13:52.657949Z"
    },
    "papermill": {
     "duration": 0.046506,
     "end_time": "2023-09-26T15:13:52.662115",
     "exception": false,
     "start_time": "2023-09-26T15:13:52.615609",
     "status": "completed"
    },
    "tags": []
   },
   "outputs": [],
   "source": [
    "y_pred = full_classifier.predict(X_test)"
   ]
  },
  {
   "cell_type": "code",
   "execution_count": 24,
   "id": "bcd0c6df",
   "metadata": {
    "execution": {
     "iopub.execute_input": "2023-09-26T15:13:52.690175Z",
     "iopub.status.busy": "2023-09-26T15:13:52.689681Z",
     "iopub.status.idle": "2023-09-26T15:13:52.696093Z",
     "shell.execute_reply": "2023-09-26T15:13:52.694208Z"
    },
    "papermill": {
     "duration": 0.023998,
     "end_time": "2023-09-26T15:13:52.699151",
     "exception": false,
     "start_time": "2023-09-26T15:13:52.675153",
     "status": "completed"
    },
    "tags": []
   },
   "outputs": [],
   "source": [
    "from sklearn.metrics import confusion_matrix, classification_report, accuracy_score"
   ]
  },
  {
   "cell_type": "code",
   "execution_count": 25,
   "id": "bb78cd34",
   "metadata": {
    "execution": {
     "iopub.execute_input": "2023-09-26T15:13:52.732100Z",
     "iopub.status.busy": "2023-09-26T15:13:52.731151Z",
     "iopub.status.idle": "2023-09-26T15:13:52.740839Z",
     "shell.execute_reply": "2023-09-26T15:13:52.739590Z"
    },
    "papermill": {
     "duration": 0.030919,
     "end_time": "2023-09-26T15:13:52.743233",
     "exception": false,
     "start_time": "2023-09-26T15:13:52.712314",
     "status": "completed"
    },
    "tags": []
   },
   "outputs": [
    {
     "data": {
      "text/plain": [
       "0.696969696969697"
      ]
     },
     "execution_count": 25,
     "metadata": {},
     "output_type": "execute_result"
    }
   ],
   "source": [
    "accuracy_score(y_test, y_pred)"
   ]
  },
  {
   "cell_type": "code",
   "execution_count": 26,
   "id": "56eb0ceb",
   "metadata": {
    "execution": {
     "iopub.execute_input": "2023-09-26T15:13:52.771778Z",
     "iopub.status.busy": "2023-09-26T15:13:52.771165Z",
     "iopub.status.idle": "2023-09-26T15:13:52.781989Z",
     "shell.execute_reply": "2023-09-26T15:13:52.780844Z"
    },
    "papermill": {
     "duration": 0.028082,
     "end_time": "2023-09-26T15:13:52.784527",
     "exception": false,
     "start_time": "2023-09-26T15:13:52.756445",
     "status": "completed"
    },
    "tags": []
   },
   "outputs": [
    {
     "data": {
      "text/plain": [
       "array([[121,  30],\n",
       "       [ 40,  40]], dtype=int64)"
      ]
     },
     "execution_count": 26,
     "metadata": {},
     "output_type": "execute_result"
    }
   ],
   "source": [
    "confusion_matrix(y_test, y_pred)"
   ]
  },
  {
   "cell_type": "code",
   "execution_count": 27,
   "id": "b029893c",
   "metadata": {
    "execution": {
     "iopub.execute_input": "2023-09-26T15:13:52.812642Z",
     "iopub.status.busy": "2023-09-26T15:13:52.812169Z",
     "iopub.status.idle": "2023-09-26T15:13:52.826808Z",
     "shell.execute_reply": "2023-09-26T15:13:52.825379Z"
    },
    "papermill": {
     "duration": 0.032714,
     "end_time": "2023-09-26T15:13:52.830105",
     "exception": false,
     "start_time": "2023-09-26T15:13:52.797391",
     "status": "completed"
    },
    "tags": []
   },
   "outputs": [
    {
     "name": "stdout",
     "output_type": "stream",
     "text": [
      "              precision    recall  f1-score   support\n",
      "\n",
      "           0       0.75      0.80      0.78       151\n",
      "           1       0.57      0.50      0.53        80\n",
      "\n",
      "    accuracy                           0.70       231\n",
      "   macro avg       0.66      0.65      0.65       231\n",
      "weighted avg       0.69      0.70      0.69       231\n",
      "\n"
     ]
    }
   ],
   "source": [
    "print(classification_report(y_test, y_pred))"
   ]
  }
 ],
 "metadata": {
  "kernelspec": {
   "display_name": "Python 3 (ipykernel)",
   "language": "python",
   "name": "python3"
  },
  "language_info": {
   "codemirror_mode": {
    "name": "ipython",
    "version": 3
   },
   "file_extension": ".py",
   "mimetype": "text/x-python",
   "name": "python",
   "nbconvert_exporter": "python",
   "pygments_lexer": "ipython3",
   "version": "3.9.16"
  },
  "papermill": {
   "default_parameters": {},
   "duration": 10.920556,
   "end_time": "2023-09-26T15:13:53.568010",
   "environment_variables": {},
   "exception": null,
   "input_path": "__notebook__.ipynb",
   "output_path": "__notebook__.ipynb",
   "parameters": {},
   "start_time": "2023-09-26T15:13:42.647454",
   "version": "2.4.0"
  }
 },
 "nbformat": 4,
 "nbformat_minor": 5
}
